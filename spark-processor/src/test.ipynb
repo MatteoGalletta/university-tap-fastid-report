{
 "cells": [
  {
   "cell_type": "code",
   "execution_count": 12,
   "id": "19674fd5",
   "metadata": {},
   "outputs": [
    {
     "name": "stdout",
     "output_type": "stream",
     "text": [
      "{'X': {'timestamp': {0: 1733410800, 1: 1733411100, 2: 1733411400, 3: 1733411700, 4: 1733412000, 5: 1733412300, 6: 1733412600, 7: 1733412900, 8: 1733413200, 9: 1733413500}, 'weekday': {0: 3, 1: 3, 2: 3, 3: 3, 4: 3, 5: 3, 6: 3, 7: 3, 8: 3, 9: 3}, 'is_weekend': {0: 0, 1: 0, 2: 0, 3: 0, 4: 0, 5: 0, 6: 0, 7: 0, 8: 0, 9: 0}}, 'y': [1, 2, 0, 1, 0, 1, 1, 1, 1, 1], 'X_new': {'timestamp': {0: 1733410800, 1: 1733411100}, 'weekday': {0: 3, 1: 3}, 'is_weekend': {0: 0, 1: 0}}, 'Y_new': [1.1, 1.39]}\n",
      "Predictions: [1.1  1.39]\n"
     ]
    }
   ],
   "source": [
    "import pandas as pd\n",
    "import datetime\n",
    "from sklearn.preprocessing import PolynomialFeatures, StandardScaler\n",
    "from sklearn.ensemble import RandomForestRegressor\n",
    "from sklearn.pipeline import Pipeline\n",
    "from sklearn.model_selection import train_test_split\n",
    "\n",
    "def train_model_and_predict(transactions_count, toPredictDates):\n",
    "\n",
    "\tdef extract_features(dates):\n",
    "\t\treturn pd.DataFrame({\n",
    "\t\t\t\"timestamp\": [int(datetime.datetime.timestamp(x)) for x in dates],\n",
    "\t\t\t# \"hour\": [x.hour for x in dates],\n",
    "\t\t\t\"weekday\": [x.weekday() for x in dates],\n",
    "\t\t\t\"is_weekend\": [1 if x.weekday() >= 5 else 0 for x in dates]\n",
    "\t\t})\n",
    "\n",
    "\t# Extract features\n",
    "\tX = extract_features(transactions_count[\"Date\"])\n",
    "\ty = transactions_count[\"TransactionsCount\"].values\n",
    "\n",
    "\t# Define and train the model\n",
    "\tmodel = Pipeline([\n",
    "\t\t(\"poly\", PolynomialFeatures(degree=2)),\n",
    "\t\t(\"scaler\", StandardScaler()),  # Add scaling\n",
    "\t\t(\"rf\", RandomForestRegressor(n_estimators=100, random_state=42))\n",
    "\t])\n",
    "\t\n",
    "\tmodel.fit(X, y)\n",
    "\n",
    "\t\n",
    "\tX_new = extract_features(toPredictDates)\n",
    "\tY_new = model.predict(X_new)\n",
    "\t\t\n",
    "\tprint({\n",
    "\t\t\"X\": X.to_dict(),\n",
    "\t\t\"y\": y.tolist(),\n",
    "\t\t\"X_new\": X_new.to_dict(),\n",
    "\t\t\"Y_new\": Y_new.tolist()\n",
    "\t})\n",
    "\treturn Y_new\n",
    "\n",
    "# Example usage\n",
    "transactions_count = pd.DataFrame({\n",
    "\t\"Date\": [datetime.datetime(2024, 12, 5, 16, 0), datetime.datetime(2024, 12, 5, 16, 5),\n",
    "\tdatetime.datetime(2024, 12, 5, 16, 10), datetime.datetime(2024, 12, 5, 16, 15),\n",
    "\tdatetime.datetime(2024, 12, 5, 16, 20), datetime.datetime(2024, 12, 5, 16, 25),\n",
    "\tdatetime.datetime(2024, 12, 5, 16, 30), datetime.datetime(2024, 12, 5, 16, 35),\n",
    "\tdatetime.datetime(2024, 12, 5, 16, 40), datetime.datetime(2024, 12, 5, 16, 45)],\n",
    "\t\"TransactionsCount\": [1, 2, 0, 1, 0, 1, 1, 1, 1, 1]\n",
    "})\n",
    "toPredictDates = [datetime.datetime(2024, 12, 5, 16, 0), datetime.datetime(2024, 12, 5, 16, 5)]\n",
    "\n",
    "predictions = train_model_and_predict(transactions_count, toPredictDates)\n",
    "print(\"Predictions:\", predictions)"
   ]
  }
 ],
 "metadata": {
  "kernelspec": {
   "display_name": "Python 3",
   "language": "python",
   "name": "python3"
  },
  "language_info": {
   "codemirror_mode": {
    "name": "ipython",
    "version": 3
   },
   "file_extension": ".py",
   "mimetype": "text/x-python",
   "name": "python",
   "nbconvert_exporter": "python",
   "pygments_lexer": "ipython3",
   "version": "3.10.0"
  }
 },
 "nbformat": 4,
 "nbformat_minor": 5
}
